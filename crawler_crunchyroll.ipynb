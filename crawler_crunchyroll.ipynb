{
 "cells": [
  {
   "cell_type": "code",
   "execution_count": null,
   "metadata": {},
   "outputs": [
    {
     "name": "stderr",
     "output_type": "stream",
     "text": [
      " 17%|█████████████▋                                                                    | 11/66 [02:10<12:07, 13.23s/it]"
     ]
    }
   ],
   "source": [
    "import re\n",
    "import requests\n",
    "import pandas as pd\n",
    "\n",
    "from tqdm import tqdm\n",
    "from bs4 import BeautifulSoup\n",
    "\n",
    "url = 'https://www.crunchyroll.com/sitemap'\n",
    "request = requests.get(url)\n",
    "soup = BeautifulSoup(request.content)\n",
    "\n",
    "sitemap = soup.findAll('loc')\n",
    "\n",
    "languages_symbols = ['en-gb', 'es', 'es-es', 'pt-br', 'pt-pt', 'fr', 'de', 'ar', 'it', 'ru']\n",
    "languages_symbols_url = [ f'https://www.crunchyroll.com/{i}' for i in languages_symbols]\n",
    "\n",
    "anime_links = []\n",
    "for url in tqdm(sitemap):\n",
    "    request = requests.get(url.text)\n",
    "    soup = BeautifulSoup(request.content)\n",
    "    \n",
    "    for link in soup.findAll('loc'):\n",
    "        link = link.text\n",
    "\n",
    "        # Looks only urls with len greater than https://www.crunchyroll.com/\n",
    "        if len(link) > 28:\n",
    "            if not link in languages_symbols_url:\n",
    "                re_search_lang = re.search(r'https://www\\.crunchyroll\\.com/([a-z]{2}|[a-z]{2}-[a-z]{2})/', link)\n",
    "                re_search_tabs = re.search(r'(https://www\\.crunchyroll\\.com/.*)/', link)\n",
    "                if not re_search_lang and not re_search_tabs:\n",
    "                    anime_links.append(link)"
   ]
  },
  {
   "cell_type": "code",
   "execution_count": null,
   "metadata": {},
   "outputs": [],
   "source": [
    "len(anime_links)"
   ]
  },
  {
   "cell_type": "code",
   "execution_count": null,
   "metadata": {},
   "outputs": [],
   "source": [
    "anime_links[:20]"
   ]
  },
  {
   "cell_type": "code",
   "execution_count": null,
   "metadata": {},
   "outputs": [],
   "source": []
  }
 ],
 "metadata": {
  "kernelspec": {
   "display_name": "Python 3",
   "language": "python",
   "name": "python3"
  },
  "language_info": {
   "codemirror_mode": {
    "name": "ipython",
    "version": 3
   },
   "file_extension": ".py",
   "mimetype": "text/x-python",
   "name": "python",
   "nbconvert_exporter": "python",
   "pygments_lexer": "ipython3",
   "version": "3.7.4"
  }
 },
 "nbformat": 4,
 "nbformat_minor": 2
}
