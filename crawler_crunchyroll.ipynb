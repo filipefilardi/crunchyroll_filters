{
 "cells": [
  {
   "cell_type": "code",
   "execution_count": 1,
   "metadata": {},
   "outputs": [],
   "source": [
    "import re\n",
    "import requests\n",
    "import pandas as pd\n",
    "\n",
    "from tqdm import tqdm_notebook\n",
    "from bs4 import BeautifulSoup"
   ]
  },
  {
   "cell_type": "markdown",
   "metadata": {},
   "source": [
    "## Functions "
   ]
  },
  {
   "cell_type": "code",
   "execution_count": 2,
   "metadata": {},
   "outputs": [],
   "source": [
    "def get_dict_ratings_anime(anime, ratings, genres):\n",
    "    \n",
    "    df_ratings = pd.DataFrame(ratings)    \n",
    "\n",
    "    dict_ratings = {\n",
    "        'anime' : anime,\n",
    "        'votes' : df_ratings['rate_votes'].sum(),\n",
    "        'weight' : df_ratings['rate_weight'].sum(),\n",
    "        'rate' : round(df_ratings['rate_weight'].sum() / df_ratings['rate_votes'].sum(), 2),\n",
    "    }\n",
    "    \n",
    "    # For each rating\n",
    "    for i in range(1,6):\n",
    "        dict_ratings[f'rate_{i}'] = df_ratings[df_ratings['rate_class'] == i]['rate_votes'].values[0]\n",
    "        \n",
    "    return {**genres, **dict_ratings}"
   ]
  },
  {
   "cell_type": "markdown",
   "metadata": {},
   "source": [
    "## Crawling sitemap to get urls for each anime"
   ]
  },
  {
   "cell_type": "code",
   "execution_count": 3,
   "metadata": {},
   "outputs": [
    {
     "data": {
      "application/vnd.jupyter.widget-view+json": {
       "model_id": "081e616731734671adb7e9b54969e960",
       "version_major": 2,
       "version_minor": 0
      },
      "text/plain": [
       "HBox(children=(IntProgress(value=0, max=66), HTML(value='')))"
      ]
     },
     "metadata": {},
     "output_type": "display_data"
    },
    {
     "name": "stdout",
     "output_type": "stream",
     "text": [
      "\n"
     ]
    }
   ],
   "source": [
    "url = 'https://www.crunchyroll.com/sitemap'\n",
    "request = requests.get(url)\n",
    "soup = BeautifulSoup(request.content)\n",
    "\n",
    "sitemap = soup.findAll('loc')\n",
    "\n",
    "languages_symbols = ['en-gb', 'es', 'es-es', 'pt-br', 'pt-pt', 'fr', 'de', 'ar', 'it', 'ru']\n",
    "languages_symbols_url = [ f'https://www.crunchyroll.com/{i}' for i in languages_symbols]\n",
    "\n",
    "anime_links = []\n",
    "for url in tqdm_notebook(sitemap):\n",
    "    request = requests.get(url.text)\n",
    "    soup = BeautifulSoup(request.content)\n",
    "    \n",
    "    for link in soup.findAll('loc'):\n",
    "        link = link.text\n",
    "\n",
    "        # Looks only urls with len greater than https://www.crunchyroll.com/\n",
    "        if len(link) > 28:\n",
    "            if link.startswith('https://www.crunchyroll.com/') and 'forumtopic' not in link:\n",
    "                if not link in languages_symbols_url:\n",
    "                    re_search_tabs = re.search(r'(https://www\\.crunchyroll\\.com/.*)/', link)\n",
    "                    if not re_search_tabs:\n",
    "                        anime_links.append(link)\n",
    "           \n",
    "                    \n",
    "anime_links = list(set(anime_links))"
   ]
  },
  {
   "cell_type": "markdown",
   "metadata": {},
   "source": [
    "## Write list containing urls for animes"
   ]
  },
  {
   "cell_type": "code",
   "execution_count": null,
   "metadata": {},
   "outputs": [],
   "source": [
    "with open(\"./data/animes_list_urls.txt\",\"w+\") as f:\n",
    "    f.write('\\n'.join(anime_links))"
   ]
  },
  {
   "cell_type": "markdown",
   "metadata": {},
   "source": [
    "## Crawling animes to get ratings and genres"
   ]
  },
  {
   "cell_type": "code",
   "execution_count": 5,
   "metadata": {},
   "outputs": [
    {
     "data": {
      "application/vnd.jupyter.widget-view+json": {
       "model_id": "49fc18082de84c3cba2225cfaef900fa",
       "version_major": 2,
       "version_minor": 0
      },
      "text/plain": [
       "HBox(children=(IntProgress(value=0, max=1253), HTML(value='')))"
      ]
     },
     "metadata": {},
     "output_type": "display_data"
    },
    {
     "name": "stderr",
     "output_type": "stream",
     "text": [
      "C:\\Users\\filarf\\AppData\\Local\\Continuum\\anaconda3\\lib\\site-packages\\ipykernel_launcher.py:9: RuntimeWarning: invalid value encountered in longlong_scalars\n",
      "  if __name__ == '__main__':\n"
     ]
    },
    {
     "name": "stdout",
     "output_type": "stream",
     "text": [
      "\n"
     ]
    }
   ],
   "source": [
    "anime_ratings = []\n",
    "for anime_link in tqdm_notebook(anime_links):\n",
    "    request = requests.get(anime_link)\n",
    "    soup = BeautifulSoup(request.content)\n",
    "    rating = soup.find('ul', {'class' : 'rating-histogram'})\n",
    "    \n",
    "    anime = anime_link.split('/')[-1]\n",
    "    \n",
    "    ratings = []\n",
    "    for rate in rating.findAll('li'):\n",
    "        rate_class = rate.find('div', {'class' : 'left num strong'})\n",
    "        rate_votes = rate.find(lambda tag: tag.name == 'div' and tag['class'] == ['left'])\n",
    "        rate_votes = re.search(r'(\\d+)', rate_votes.text)\n",
    "        if rate_class:\n",
    "            rate_class = int(rate_class.text)\n",
    "            if rate_votes:\n",
    "                rate_votes = int(rate_votes.group(1))\n",
    "            else : \n",
    "                rate_votes = 0\n",
    "                \n",
    "            ratings.append({'rate_class' : rate_class, 'rate_votes' : rate_votes,\n",
    "                            'rate_weight' : rate_class * rate_votes})\n",
    "    \n",
    "    genres = {}\n",
    "    for link in soup.findAll(lambda tag: tag.name == 'a' and tag.get('class') == ['text-link']):\n",
    "        if 'genres' in link['href']:\n",
    "            genres[f'genre_{link.text}'] = 1\n",
    "    \n",
    "    anime_ratings.append(get_dict_ratings_anime(anime, ratings, genres))"
   ]
  },
  {
   "cell_type": "markdown",
   "metadata": {},
   "source": [
    "## Write csv with ratings and genres"
   ]
  },
  {
   "cell_type": "code",
   "execution_count": 33,
   "metadata": {},
   "outputs": [],
   "source": [
    "df_ratings = pd.DataFrame(anime_ratings).fillna(0)\n",
    "\n",
    "# Sort columns\n",
    "cols_genres = [col for col in df_ratings.columns if col.startswith('genre_')]\n",
    "cols_genres.sort()\n",
    "\n",
    "df_ratings = df_ratings[['anime', 'votes', 'weight', 'rate',\n",
    "                         'rate_1', 'rate_2', 'rate_3', 'rate_4', 'rate_5'] + cols_genres]\n",
    "\n",
    "df_ratings.sort_values(['votes', 'rate'], ascending=False).to_csv('./data/ratings.csv')"
   ]
  }
 ],
 "metadata": {
  "kernelspec": {
   "display_name": "Python 3",
   "language": "python",
   "name": "python3"
  },
  "language_info": {
   "codemirror_mode": {
    "name": "ipython",
    "version": 3
   },
   "file_extension": ".py",
   "mimetype": "text/x-python",
   "name": "python",
   "nbconvert_exporter": "python",
   "pygments_lexer": "ipython3",
   "version": "3.7.4"
  }
 },
 "nbformat": 4,
 "nbformat_minor": 2
}
