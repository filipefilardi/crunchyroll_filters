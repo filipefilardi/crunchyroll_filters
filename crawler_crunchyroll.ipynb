{
 "cells": [
  {
   "cell_type": "code",
   "execution_count": 47,
   "metadata": {},
   "outputs": [
    {
     "name": "stderr",
     "output_type": "stream",
     "text": [
      "100%|██████████████████████████████████████████████████████████████████████████████████| 66/66 [07:31<00:00,  6.84s/it]\n"
     ]
    }
   ],
   "source": [
    "import re\n",
    "import requests\n",
    "import pandas as pd\n",
    "\n",
    "from tqdm import tqdm\n",
    "from bs4 import BeautifulSoup\n",
    "\n",
    "\n",
    "def get_dict_ratings_anime(anime, ratings):\n",
    "    \n",
    "    df_ratings = pd.DataFrame(ratings)    \n",
    "\n",
    "    dict_ratings = {\n",
    "        'anime' : anime,\n",
    "        'votes' : df_ratings['rate_votes'].sum(),\n",
    "        'weight' : df_ratings['rate_weight'].sum(),\n",
    "        'rate' : round(df_ratings['rate_weight'].sum() / df_ratings['rate_votes'].sum(), 2),\n",
    "    }\n",
    "    \n",
    "    # For each rating\n",
    "    for i in range(1,6):\n",
    "        dict_ratings[str(i)] = df_ratings[df_ratings['rate_class'] == i]['rate_votes'].values[0]\n",
    "        \n",
    "    return dict_ratings\n",
    "\n",
    "url = 'https://www.crunchyroll.com/sitemap'\n",
    "request = requests.get(url)\n",
    "soup = BeautifulSoup(request.content)\n",
    "\n",
    "sitemap = soup.findAll('loc')\n",
    "\n",
    "languages_symbols = ['en-gb', 'es', 'es-es', 'pt-br', 'pt-pt', 'fr', 'de', 'ar', 'it', 'ru']\n",
    "languages_symbols_url = [ f'https://www.crunchyroll.com/{i}' for i in languages_symbols]\n",
    "\n",
    "anime_links = []\n",
    "for url in tqdm(sitemap):\n",
    "    request = requests.get(url.text)\n",
    "    soup = BeautifulSoup(request.content)\n",
    "    \n",
    "    for link in soup.findAll('loc'):\n",
    "        link = link.text\n",
    "\n",
    "        # Looks only urls with len greater than https://www.crunchyroll.com/\n",
    "        if len(link) > 28:\n",
    "            if link.startswith('https://www.crunchyroll.com/' and 'forumtopic' not in link):\n",
    "                if not link in languages_symbols_url:\n",
    "                    re_search_tabs = re.search(r'(https://www\\.crunchyroll\\.com/.*)/', link)\n",
    "                    if not re_search_tabs:\n",
    "                        anime_links.append(link)\n",
    "           \n",
    "                    \n",
    "anime_links = list(set(anime_links))\n",
    "\n",
    "# Write list to make contribute with people that only need that\n",
    "with open(\"./data/animes_list_urls.txt\",\"w+\") as f:\n",
    "    f.write('\\n'.join(anime_links))"
   ]
  },
  {
   "cell_type": "code",
   "execution_count": 64,
   "metadata": {},
   "outputs": [
    {
     "name": "stderr",
     "output_type": "stream",
     "text": [
      "  7%|█████▍                                                                          | 86/1253 [01:38<20:04,  1.03s/it]"
     ]
    },
    {
     "ename": "AttributeError",
     "evalue": "'NoneType' object has no attribute 'group'",
     "output_type": "error",
     "traceback": [
      "\u001b[1;31m---------------------------------------------------------------------------\u001b[0m",
      "\u001b[1;31mAttributeError\u001b[0m                            Traceback (most recent call last)",
      "\u001b[1;32m<ipython-input-64-2b9df3215f18>\u001b[0m in \u001b[0;36m<module>\u001b[1;34m\u001b[0m\n\u001b[0;32m     13\u001b[0m         \u001b[1;32mif\u001b[0m \u001b[0mrate_class\u001b[0m\u001b[1;33m:\u001b[0m\u001b[1;33m\u001b[0m\u001b[1;33m\u001b[0m\u001b[0m\n\u001b[0;32m     14\u001b[0m             \u001b[0mrate_class\u001b[0m \u001b[1;33m=\u001b[0m \u001b[0mint\u001b[0m\u001b[1;33m(\u001b[0m\u001b[0mrate_class\u001b[0m\u001b[1;33m.\u001b[0m\u001b[0mtext\u001b[0m\u001b[1;33m)\u001b[0m\u001b[1;33m\u001b[0m\u001b[1;33m\u001b[0m\u001b[0m\n\u001b[1;32m---> 15\u001b[1;33m             \u001b[0mrate_votes\u001b[0m \u001b[1;33m=\u001b[0m \u001b[0mint\u001b[0m\u001b[1;33m(\u001b[0m\u001b[0mre\u001b[0m\u001b[1;33m.\u001b[0m\u001b[0msearch\u001b[0m\u001b[1;33m(\u001b[0m\u001b[1;34mr'(\\d+)'\u001b[0m\u001b[1;33m,\u001b[0m \u001b[0mrate_votes\u001b[0m\u001b[1;33m.\u001b[0m\u001b[0mtext\u001b[0m\u001b[1;33m)\u001b[0m\u001b[1;33m.\u001b[0m\u001b[0mgroup\u001b[0m\u001b[1;33m(\u001b[0m\u001b[1;36m1\u001b[0m\u001b[1;33m)\u001b[0m\u001b[1;33m)\u001b[0m\u001b[1;33m\u001b[0m\u001b[1;33m\u001b[0m\u001b[0m\n\u001b[0m\u001b[0;32m     16\u001b[0m \u001b[1;33m\u001b[0m\u001b[0m\n\u001b[0;32m     17\u001b[0m             ratings.append({'rate_class' : rate_class, 'rate_votes' : rate_votes,\n",
      "\u001b[1;31mAttributeError\u001b[0m: 'NoneType' object has no attribute 'group'"
     ]
    }
   ],
   "source": [
    "anime_ratings = []\n",
    "for anime_link in tqdm(anime_links):\n",
    "    request = requests.get(anime_link)\n",
    "    soup = BeautifulSoup(request.content)\n",
    "    rating = soup.find('ul', {'class' : 'rating-histogram'})\n",
    "    \n",
    "    anime = anime_link.split('/')[-1]\n",
    "    \n",
    "    ratings = []\n",
    "    for rate in rating.findAll('li'):\n",
    "        rate_class = rate.find('div', {'class' : 'left num strong'})\n",
    "        rate_votes = rate.find(lambda tag: tag.name == 'div' and tag['class'] == ['left'])\n",
    "        rate_votes = re.search(r'(\\d+)', rate_votes.text)\n",
    "        if rate_class:\n",
    "            rate_class = int(rate_class.text)\n",
    "            if rate_votes:\n",
    "                rate_votes = int(.group(1))\n",
    "            else : \n",
    "                rate_votes = 0\n",
    "                \n",
    "            ratings.append({'rate_class' : rate_class, 'rate_votes' : rate_votes,\n",
    "                            'rate_weight' : rate_class * rate_votes})\n",
    "            \n",
    "    anime_ratings.append(get_dict_ratings_anime(anime, ratings))"
   ]
  },
  {
   "cell_type": "code",
   "execution_count": null,
   "metadata": {},
   "outputs": [],
   "source": [
    "pd.DataFrame(anime_ratings)"
   ]
  }
 ],
 "metadata": {
  "kernelspec": {
   "display_name": "Python 3",
   "language": "python",
   "name": "python3"
  },
  "language_info": {
   "codemirror_mode": {
    "name": "ipython",
    "version": 3
   },
   "file_extension": ".py",
   "mimetype": "text/x-python",
   "name": "python",
   "nbconvert_exporter": "python",
   "pygments_lexer": "ipython3",
   "version": "3.7.4"
  }
 },
 "nbformat": 4,
 "nbformat_minor": 2
}
